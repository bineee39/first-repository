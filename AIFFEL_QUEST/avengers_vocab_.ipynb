{
  "nbformat": 4,
  "nbformat_minor": 0,
  "metadata": {
    "colab": {
      "provenance": [],
      "include_colab_link": true
    },
    "kernelspec": {
      "name": "python3",
      "display_name": "Python 3"
    },
    "language_info": {
      "name": "python"
    }
  },
  "cells": [
    {
      "cell_type": "markdown",
      "metadata": {
        "id": "view-in-github",
        "colab_type": "text"
      },
      "source": [
        "<a href=\"https://colab.research.google.com/github/bineee39/first-repository/blob/master/AIFFEL_QUEST/avengers_vocab_.ipynb\" target=\"_parent\"><img src=\"https://colab.research.google.com/assets/colab-badge.svg\" alt=\"Open In Colab\"/></a>"
      ]
    },
    {
      "cell_type": "code",
      "source": [
        "# 1. 텍스트 전처리 수행\n",
        "# Avengers,txt 불러오기\n",
        "# 모든 문자는 소문자 변환\n",
        "# 모든 기호 제거\n",
        "# 단어 단위로 분리\n",
        "# 결과: 확인\n",
        "\n",
        "# 챕터\n",
        "# 각 단어 별 빈도수를 딕셔너리 형태로 저장\n",
        "# 딕셔너리를 빈도수순으로 낼힘차순 정렬하고 , 정렬 순서대로 정수 인텍스 부여\n",
        "# 텍스트를 input()으로 입력받아서 정수를 return 하는 함수를 만든다."
      ],
      "metadata": {
        "id": "fMHNZKJOPeOP"
      },
      "execution_count": null,
      "outputs": []
    },
    {
      "cell_type": "code",
      "execution_count": null,
      "metadata": {
        "colab": {
          "base_uri": "https://localhost:8080/"
        },
        "collapsed": true,
        "id": "7ZAqTh7iK_lr",
        "outputId": "1bb9fac1-8a84-42c7-df40-db7f9720ac95"
      },
      "outputs": [
        {
          "output_type": "display_data",
          "data": {
            "text/plain": [
              "<IPython.core.display.HTML object>"
            ],
            "text/html": [
              "\n",
              "     <input type=\"file\" id=\"files-32603de6-8887-4adf-b3f7-944b790c3c01\" name=\"files[]\" multiple disabled\n",
              "        style=\"border:none\" />\n",
              "     <output id=\"result-32603de6-8887-4adf-b3f7-944b790c3c01\">\n",
              "      Upload widget is only available when the cell has been executed in the\n",
              "      current browser session. Please rerun this cell to enable.\n",
              "      </output>\n",
              "      <script>// Copyright 2017 Google LLC\n",
              "//\n",
              "// Licensed under the Apache License, Version 2.0 (the \"License\");\n",
              "// you may not use this file except in compliance with the License.\n",
              "// You may obtain a copy of the License at\n",
              "//\n",
              "//      http://www.apache.org/licenses/LICENSE-2.0\n",
              "//\n",
              "// Unless required by applicable law or agreed to in writing, software\n",
              "// distributed under the License is distributed on an \"AS IS\" BASIS,\n",
              "// WITHOUT WARRANTIES OR CONDITIONS OF ANY KIND, either express or implied.\n",
              "// See the License for the specific language governing permissions and\n",
              "// limitations under the License.\n",
              "\n",
              "/**\n",
              " * @fileoverview Helpers for google.colab Python module.\n",
              " */\n",
              "(function(scope) {\n",
              "function span(text, styleAttributes = {}) {\n",
              "  const element = document.createElement('span');\n",
              "  element.textContent = text;\n",
              "  for (const key of Object.keys(styleAttributes)) {\n",
              "    element.style[key] = styleAttributes[key];\n",
              "  }\n",
              "  return element;\n",
              "}\n",
              "\n",
              "// Max number of bytes which will be uploaded at a time.\n",
              "const MAX_PAYLOAD_SIZE = 100 * 1024;\n",
              "\n",
              "function _uploadFiles(inputId, outputId) {\n",
              "  const steps = uploadFilesStep(inputId, outputId);\n",
              "  const outputElement = document.getElementById(outputId);\n",
              "  // Cache steps on the outputElement to make it available for the next call\n",
              "  // to uploadFilesContinue from Python.\n",
              "  outputElement.steps = steps;\n",
              "\n",
              "  return _uploadFilesContinue(outputId);\n",
              "}\n",
              "\n",
              "// This is roughly an async generator (not supported in the browser yet),\n",
              "// where there are multiple asynchronous steps and the Python side is going\n",
              "// to poll for completion of each step.\n",
              "// This uses a Promise to block the python side on completion of each step,\n",
              "// then passes the result of the previous step as the input to the next step.\n",
              "function _uploadFilesContinue(outputId) {\n",
              "  const outputElement = document.getElementById(outputId);\n",
              "  const steps = outputElement.steps;\n",
              "\n",
              "  const next = steps.next(outputElement.lastPromiseValue);\n",
              "  return Promise.resolve(next.value.promise).then((value) => {\n",
              "    // Cache the last promise value to make it available to the next\n",
              "    // step of the generator.\n",
              "    outputElement.lastPromiseValue = value;\n",
              "    return next.value.response;\n",
              "  });\n",
              "}\n",
              "\n",
              "/**\n",
              " * Generator function which is called between each async step of the upload\n",
              " * process.\n",
              " * @param {string} inputId Element ID of the input file picker element.\n",
              " * @param {string} outputId Element ID of the output display.\n",
              " * @return {!Iterable<!Object>} Iterable of next steps.\n",
              " */\n",
              "function* uploadFilesStep(inputId, outputId) {\n",
              "  const inputElement = document.getElementById(inputId);\n",
              "  inputElement.disabled = false;\n",
              "\n",
              "  const outputElement = document.getElementById(outputId);\n",
              "  outputElement.innerHTML = '';\n",
              "\n",
              "  const pickedPromise = new Promise((resolve) => {\n",
              "    inputElement.addEventListener('change', (e) => {\n",
              "      resolve(e.target.files);\n",
              "    });\n",
              "  });\n",
              "\n",
              "  const cancel = document.createElement('button');\n",
              "  inputElement.parentElement.appendChild(cancel);\n",
              "  cancel.textContent = 'Cancel upload';\n",
              "  const cancelPromise = new Promise((resolve) => {\n",
              "    cancel.onclick = () => {\n",
              "      resolve(null);\n",
              "    };\n",
              "  });\n",
              "\n",
              "  // Wait for the user to pick the files.\n",
              "  const files = yield {\n",
              "    promise: Promise.race([pickedPromise, cancelPromise]),\n",
              "    response: {\n",
              "      action: 'starting',\n",
              "    }\n",
              "  };\n",
              "\n",
              "  cancel.remove();\n",
              "\n",
              "  // Disable the input element since further picks are not allowed.\n",
              "  inputElement.disabled = true;\n",
              "\n",
              "  if (!files) {\n",
              "    return {\n",
              "      response: {\n",
              "        action: 'complete',\n",
              "      }\n",
              "    };\n",
              "  }\n",
              "\n",
              "  for (const file of files) {\n",
              "    const li = document.createElement('li');\n",
              "    li.append(span(file.name, {fontWeight: 'bold'}));\n",
              "    li.append(span(\n",
              "        `(${file.type || 'n/a'}) - ${file.size} bytes, ` +\n",
              "        `last modified: ${\n",
              "            file.lastModifiedDate ? file.lastModifiedDate.toLocaleDateString() :\n",
              "                                    'n/a'} - `));\n",
              "    const percent = span('0% done');\n",
              "    li.appendChild(percent);\n",
              "\n",
              "    outputElement.appendChild(li);\n",
              "\n",
              "    const fileDataPromise = new Promise((resolve) => {\n",
              "      const reader = new FileReader();\n",
              "      reader.onload = (e) => {\n",
              "        resolve(e.target.result);\n",
              "      };\n",
              "      reader.readAsArrayBuffer(file);\n",
              "    });\n",
              "    // Wait for the data to be ready.\n",
              "    let fileData = yield {\n",
              "      promise: fileDataPromise,\n",
              "      response: {\n",
              "        action: 'continue',\n",
              "      }\n",
              "    };\n",
              "\n",
              "    // Use a chunked sending to avoid message size limits. See b/62115660.\n",
              "    let position = 0;\n",
              "    do {\n",
              "      const length = Math.min(fileData.byteLength - position, MAX_PAYLOAD_SIZE);\n",
              "      const chunk = new Uint8Array(fileData, position, length);\n",
              "      position += length;\n",
              "\n",
              "      const base64 = btoa(String.fromCharCode.apply(null, chunk));\n",
              "      yield {\n",
              "        response: {\n",
              "          action: 'append',\n",
              "          file: file.name,\n",
              "          data: base64,\n",
              "        },\n",
              "      };\n",
              "\n",
              "      let percentDone = fileData.byteLength === 0 ?\n",
              "          100 :\n",
              "          Math.round((position / fileData.byteLength) * 100);\n",
              "      percent.textContent = `${percentDone}% done`;\n",
              "\n",
              "    } while (position < fileData.byteLength);\n",
              "  }\n",
              "\n",
              "  // All done.\n",
              "  yield {\n",
              "    response: {\n",
              "      action: 'complete',\n",
              "    }\n",
              "  };\n",
              "}\n",
              "\n",
              "scope.google = scope.google || {};\n",
              "scope.google.colab = scope.google.colab || {};\n",
              "scope.google.colab._files = {\n",
              "  _uploadFiles,\n",
              "  _uploadFilesContinue,\n",
              "};\n",
              "})(self);\n",
              "</script> "
            ]
          },
          "metadata": {}
        },
        {
          "output_type": "stream",
          "name": "stdout",
          "text": [
            "Saving Avengers.txt to Avengers.txt\n",
            "The Tesseract has awakened.\n",
            "It is on a neutral world, a human world.\n",
            "They wield its power,\n",
            "but our ally knows it's working, so that they never will learn.\n",
            "He's ready to lead, and our force, our Chitauri will follow.\n",
            "The world will be his and the universe yours.\n",
            "And the humans, what can they do, but burn.\n",
            "How bad is it?\n",
            "That's the problem, sir. We don't know.\n",
            "Dr. Selvig read an energy surge from the Tesseract four hour ago.\n",
            "NASA didn't authorize Selvig to pull the test phase.\n",
            "He wasn't testing it\n"
          ]
        }
      ],
      "source": [
        "from google.colab import files\n",
        "uploaded = files.upload()\n",
        "with open(\"Avengers.txt\", \"r\", encoding=\"utf-8\") as f:\n",
        "    print(f.read()[:500])"
      ]
    },
    {
      "cell_type": "code",
      "source": [
        "with open(\"Avengers.txt\", \"r\", encoding=\"utf-8\") as f:\n",
        "\n",
        "def preprocess(text:str) --> list[str]:\n",
        "    text = text. lower()\n",
        "    text =\n",
        "\n",
        "    return tokens"
      ],
      "metadata": {
        "colab": {
          "base_uri": "https://localhost:8080/"
        },
        "collapsed": true,
        "id": "z5mt2vsnNzPf",
        "outputId": "5c42e0f8-f0d9-43fd-a29d-309a1545c36b"
      },
      "execution_count": null,
      "outputs": [
        {
          "output_type": "stream",
          "name": "stdout",
          "text": [
            "The Tesseract has awakened.\n",
            "It is on a neutral world, a human world.\n",
            "They wield its power,\n",
            "but our ally knows it's working, so that they never will learn.\n",
            "He's ready to lead, and our force, our Chitauri will follow.\n",
            "The world will be his and the universe yours.\n",
            "And the humans, what can they do, but burn.\n",
            "How bad is it?\n",
            "That's the problem, sir. We don't know.\n",
            "Dr. Selvig read an energy surge from the Tesseract four hour ago.\n",
            "NASA didn't authorize Selvig to pull the test phase.\n",
            "He wasn't testing it\n"
          ]
        }
      ]
    },
    {
      "cell_type": "code",
      "source": [
        "import re\n",
        "from collections import Counter"
      ],
      "metadata": {
        "id": "XU3v7Z8nOjNm"
      },
      "execution_count": null,
      "outputs": []
    },
    {
      "cell_type": "code",
      "source": [
        "with open('Avengers.txt', 'r') as f:\n",
        "    Avengers_text = f.read()\n",
        "    print(\"파일을 성공적으로 불러왔습니다.\")\n",
        "#텍스트 전처리 과정\n",
        "def preprocess(text):\n",
        "    text =text.lower()\n",
        "    new_text=[]\n",
        "    for word in text:\n",
        "      if word.isalpha():\n",
        "        new_text.append(word)\n",
        "      else:\n",
        "        new_text.append(' ')\n",
        "    new_text=''.join(new_text)\n",
        "    final_word=new_text.split()\n",
        "    return final_word\n",
        "\n",
        "#각 단어 별 빈도수를 딕셔너리 형태로 저장\n",
        "storage={}\n",
        "all_text=preprocess(Avengers_text)\n",
        "for i in all_text:\n",
        "  if i in storage:\n",
        "    storage[i] +=1\n",
        "  else:\n",
        "    storage[i]=1\n",
        "\n",
        "# 딕셔너리를 빈도수순으로 내림차순 정렬하고 ,\n",
        "storage_items = sorted(storage.items(), key=lambda x: (-x[1], x[0]))\n",
        "\n",
        "# 정렬 순서대로 정수 인텍스 부여\n",
        "vocab = {word: idx for idx, (word, _) in enumerate(storage_items)}\n",
        "\n",
        "# 텍스트를 input()으로 입력받아서 정수를 return 하는 함수를 만든다.\n",
        "def encoder_from_input(vocab):\n",
        "    s = input(\"텍스트 입력:\")\n",
        "    toks = preprocess(s)\n",
        "    return [vocab[t] for t in toks if t in vocab]\n",
        "\n",
        "print(\"--- 생성된 단어 사전 (vocab) ---\")\n",
        "print(vocab)\n",
        "print(\"-\" * 25)\n",
        "encoded_result = encoder_from_input(vocab)\n",
        "print(\"인코딩 결과:\", encoded_result)\n",
        "\n"
      ],
      "metadata": {
        "id": "GfJDA5WlPQEE",
        "colab": {
          "base_uri": "https://localhost:8080/"
        },
        "outputId": "4f88d19d-d636-43c8-934b-307cb7fdf646"
      },
      "execution_count": 28,
      "outputs": [
        {
          "output_type": "stream",
          "name": "stdout",
          "text": [
            "파일을 성공적으로 불러왔습니다.\n",
            "--- 생성된 단어 사전 (vocab) ---\n",
            "{'you': 0, 'the': 1, 'i': 2, 'a': 3, 'to': 4, 's': 5, 'it': 6, 'we': 7, 'that': 8, 't': 9, 'of': 10, 'is': 11, 'and': 12, 'he': 13, 'this': 14, 'in': 15, 'on': 16, 'not': 17, 'what': 18, 'me': 19, 'for': 20, 're': 21, 'have': 22, 'be': 23, 'no': 24, 'know': 25, 'are': 26, 'can': 27, 'do': 28, 'm': 29, 'out': 30, 'your': 31, 'was': 32, 'loki': 33, 'there': 34, 'they': 35, 'don': 36, 'my': 37, 'need': 38, 'get': 39, 'all': 40, 'but': 41, 'got': 42, 'up': 43, 'if': 44, 'did': 45, 'here': 46, 'just': 47, 'like': 48, 'about': 49, 'an': 50, 'tesseract': 51, 've': 52, 'his': 53, 'how': 54, 'stark': 55, 'with': 56, 'now': 57, 'so': 58, 'think': 59, 'will': 60, 'gonna': 61, 'him': 62, 'down': 63, 'them': 64, 'us': 65, 'come': 66, 'from': 67, 'll': 68, 'well': 69, 'as': 70, 'didn': 71, 'right': 72, 'sir': 73, 'put': 74, 'where': 75, 'world': 76, 'one': 77, 'why': 78, 'should': 79, 'who': 80, 'our': 81, 'guy': 82, 'has': 83, 'off': 84, 'people': 85, 'tell': 86, 'back': 87, 'd': 88, 'then': 89, 'way': 90, 'were': 91, 'agent': 92, 'at': 93, 'banner': 94, 'man': 95, 'when': 96, 'cube': 97, 'does': 98, 'everything': 99, 'fury': 100, 'let': 101, 'power': 102, 'time': 103, 'yeah': 104, 'doctor': 105, 'go': 106, 'mean': 107, 'see': 108, 'take': 109, 'would': 110, 'barton': 111, 'energy': 112, 'good': 113, 'only': 114, 'shield': 115, 'some': 116, 'want': 117, 'war': 118, 'work': 119, 'am': 120, 'isn': 121, 'little': 122, 'made': 123, 'oh': 124, 'other': 125, 'something': 126, 'these': 127, 'wanna': 128, 'been': 129, 'call': 130, 'could': 131, 'find': 132, 'gotta': 133, 'make': 134, 'more': 135, 'really': 136, 'wants': 137, 'anything': 138, 'captain': 139, 'close': 140, 'dr': 141, 'end': 142, 'every': 143, 'into': 144, 'or': 145, 'say': 146, 'stay': 147, 'too': 148, 'until': 149, 'by': 150, 'director': 151, 'doing': 152, 'earth': 153, 'engine': 154, 'even': 155, 'keep': 156, 'lot': 157, 'never': 158, 'selvig': 159, 'sorry': 160, 'still': 161, 'thing': 162, 'things': 163, 'thought': 164, 'avengers': 165, 'control': 166, 'give': 167, 'had': 168, 'look': 169, 'might': 170, 'much': 171, 'over': 172, 'please': 173, 'portal': 174, 'romanoff': 175, 'suit': 176, 'than': 177, 'thor': 178, 'turn': 179, 'uh': 180, 'won': 181, 'yes': 182, 'any': 183, 'army': 184, 'around': 185, 'asgard': 186, 'away': 187, 'because': 188, 'before': 189, 'big': 190, 'coming': 191, 'god': 192, 'hold': 193, 'hulk': 194, 'kind': 195, 'knows': 196, 'life': 197, 'long': 198, 'may': 199, 'men': 200, 'okay': 201, 'play': 202, 'point': 203, 'she': 204, 'shut': 205, 'very': 206, 'yourself': 207, 'after': 208, 'better': 209, 'coulson': 210, 'ever': 211, 'going': 212, 'guys': 213, 'hit': 214, 'lost': 215, 'love': 216, 'maybe': 217, 'nothing': 218, 'phase': 219, 'phil': 220, 'planet': 221, 'pretty': 222, 'remember': 223, 'seen': 224, 'stop': 225, 'sure': 226, 'team': 227, 'thank': 228, 'though': 229, 'together': 230, 'try': 231, 'yet': 232, 'again': 233, 'alright': 234, 'brother': 235, 'doesn': 236, 'done': 237, 'enough': 238, 'far': 239, 'fight': 240, 'first': 241, 'force': 242, 'jarvis': 243, 'kill': 244, 'king': 245, 'leave': 246, 'means': 247, 'natasha': 248, 'needs': 249, 'new': 250, 'next': 251, 'once': 252, 'percent': 253, 'place': 254, 'plan': 255, 'secret': 256, 'source': 257, 'talk': 258, 'which': 259, 'working': 260, 'actually': 261, 'alone': 262, 'always': 263, 'b': 264, 'blow': 265, 'copy': 266, 'eyes': 267, 'father': 268, 'gamma': 269, 'hard': 270, 'its': 271, 'last': 272, 'line': 273, 'many': 274, 'miss': 275, 'name': 276, 'none': 277, 'open': 278, 'pull': 279, 'ready': 280, 'red': 281, 'rest': 282, 'run': 283, 'save': 284, 'space': 285, 'spy': 286, 'takes': 287, 'their': 288, 'those': 289, 'through': 290, 'true': 291, 'trying': 292, 'two': 293, 'use': 294, 'wait': 295, 'whatever': 296, 'wipe': 297, 'word': 298, 'against': 299, 'already': 300, 'another': 301, 'aren': 302, 'armor': 303, 'become': 304, 'break': 305, 'bring': 306, 'building': 307, 'built': 308, 'called': 309, 'came': 310, 'chitauri': 311, 'clear': 312, 'drop': 313, 'else': 314, 'everyone': 315, 'exactly': 316, 'fall': 317, 'feel': 318, 'free': 319, 'full': 320, 'gone': 321, 'hell': 322, 'heroes': 323, 'huge': 324, 'humans': 325, 'idea': 326, 'itself': 327, 'job': 328, 'kneel': 329, 'lead': 330, 'left': 331, 'level': 332, 'light': 333, 'listen': 334, 'location': 335, 'lose': 336, 'minute': 337, 'monster': 338, 'move': 339, 'mr': 340, 'old': 341, 'pain': 342, 'peace': 343, 'perimeter': 344, 'radiation': 345, 'says': 346, 'scepter': 347, 'seeing': 348, 'seems': 349, 'self': 350, 'set': 351, 'show': 352, 'soldier': 353, 'son': 354, 'soon': 355, 'start': 356, 'streets': 357, 'taking': 358, 'target': 359, 'thanks': 360, 'three': 361, 'took': 362, 'tower': 363, 'twelve': 364, 'under': 365, 'understand': 366, 'used': 367, 'while': 368, 'without': 369, 'wrong': 370, 'york': 371, 'afraid': 372, 'anybody': 373, 'ask': 374, 'asking': 375, 'attack': 376, 'attention': 377, 'bad': 378, 'being': 379, 'believe': 380, 'believing': 381, 'beyond': 382, 'care': 383, 'cause': 384, 'change': 385, 'changed': 386, 'city': 387, 'clean': 388, 'cluster': 389, 'couldn': 390, 'council': 391, 'couple': 392, 'course': 393, 'decision': 394, 'desperate': 395, 'distance': 396, 'drink': 397, 'erik': 398, 'eye': 399, 'face': 400, 'fashioned': 401, 'few': 402, 'focused': 403, 'form': 404, 'freedom': 405, 'fun': 406, 'funny': 407, 'glorious': 408, 'great': 409, 'hammer': 410, 'hand': 411, 'hands': 412, 'having': 413, 'hear': 414, 'heart': 415, 'heavy': 416, 'her': 417, 'hero': 418, 'hill': 419, 'hope': 420, 'hostile': 421, 'human': 422, 'hundred': 423, 'ice': 424, 'initiative': 425, 'intelligence': 426, 'iridium': 427, 'kept': 428, 'lab': 429, 'late': 430, 'ledger': 431, 'lets': 432, 'levels': 433, 'lever': 434, 'living': 435, 'looking': 436, 'low': 437, 'makes': 438, 'match': 439, 'meet': 440, 'mind': 441, 'minutes': 442, 'model': 443, 'moment': 444, 'moved': 445, 'needed': 446, 'nice': 447, 'party': 448, 'person': 449, 'potts': 450, 'prepared': 451, 'push': 452, 'question': 453, 'read': 454, 'rogers': 455, 'roof': 456, 'room': 457, 'rotors': 458, 'rule': 459, 'running': 460, 'same': 461, 'security': 462, 'send': 463, 'sent': 464, 'sentiment': 465, 'shawarma': 466, 'slow': 467, 'someone': 468, 'speak': 469, 'stand': 470, 'started': 471, 'step': 472, 'stress': 473, 'stuff': 474, 'super': 475, 'supposed': 476, 'ten': 477, 'test': 478, 'threat': 479, 'threaten': 480, 'told': 481, 'tomorrow': 482, 'tony': 483, 'top': 484, 'tried': 485, 'truth': 486, 'wake': 487, 'wasn': 488, 'water': 489, 'weapon': 490, 'weapons': 491, 'whole': 492, 'works': 493, 'worlds': 494, 'worse': 495, 'wouldn': 496, 'year': 497, 'above': 498, 'access': 499, 'accident': 500, 'act': 501, 'ah': 502, 'air': 503, 'alien': 504, 'alive': 505, 'along': 506, 'america': 507, 'angry': 508, 'ant': 509, 'anti': 510, 'anyone': 511, 'apart': 512, 'asgardian': 513, 'assume': 514, 'authorized': 515, 'avoiding': 516, 'awake': 517, 'baby': 518, 'bag': 519, 'bargain': 520, 'barrier': 521, 'base': 522, 'battle': 523, 'beast': 524, 'belongs': 525, 'bilchsteim': 526, 'billionaire': 527, 'bit': 528, 'blocks': 529, 'boot': 530, 'boss': 531, 'boy': 532, 'brain': 533, 'breach': 534, 'breath': 535, 'bridge': 536, 'brought': 537, 'bruce': 538, 'budapest': 539, 'build': 540, 'buildings': 541, 'business': 542, 'c': 543, 'cage': 544, 'cap': 545, 'cards': 546, 'case': 547, 'celebrating': 548, 'cell': 549, 'cellist': 550, 'certain': 551, 'chaos': 552, 'civilian': 553, 'clint': 554, 'clock': 555, 'communications': 556, 'compromised': 557, 'controlled': 558, 'councilman': 559, 'crawl': 560, 'credit': 561, 'cut': 562, 'damn': 563, 'dark': 564, 'date': 565, 'dead': 566, 'deal': 567, 'dealing': 568, 'deck': 569, 'destruction': 570, 'detonation': 571, 'different': 572, 'door': 573, 'doors': 574, 'drive': 575, 'easily': 576, 'easy': 577, 'effect': 578, 'either': 579, 'elevator': 580, 'enemies': 581, 'engage': 582, 'engaged': 583, 'engines': 584, 'english': 585, 'enjoy': 586, 'environment': 587, 'evac': 588, 'fear': 589, 'feet': 590, 'fell': 591, 'fella': 592, 'fighting': 593, 'figured': 594, 'finished': 595, 'fire': 596, 'focusing': 597, 'follow': 598, 'found': 599, 'four': 600, 'friend': 601, 'front': 602, 'gammer': 603, 'gave': 604, 'general': 605, 'genius': 606, 'gentlemen': 607, 'germany': 608, 'gets': 609, 'giving': 610, 'glad': 611, 'goes': 612, 'green': 613, 'group': 614, 'grow': 615, 'guess': 616, 'guns': 617, 'half': 618, 'handed': 619, 'handle': 620, 'happened': 621, 'happening': 622, 'happens': 623, 'harmful': 624, 'hasn': 625, 'head': 626, 'headed': 627, 'heard': 628, 'heat': 629, 'help': 630, 'hey': 631, 'hiding': 632, 'higher': 633, 'home': 634, 'homework': 635, 'honor': 636, 'hour': 637, 'hours': 638, 'humanity': 639, 'hurt': 640, 'hydra': 641, 'inside': 642, 'intact': 643, 'issues': 644, 'jacket': 645, 'jet': 646, 'jump': 647, 'key': 648, 'killed': 649, 'knowledge': 650, 'known': 651, 'laboratory': 652, 'lay': 653, 'learned': 654, 'leaving': 655, 'legend': 656, 'lie': 657, 'lightning': 658, 'list': 659, 'locked': 660, 'losing': 661, 'lying': 662, 'mankind': 663, 'mass': 664, 'matter': 665, 'met': 666, 'metal': 667, 'misbehaving': 668, 'missed': 669, 'monkeys': 670, 'moving': 671, 'must': 672, 'nat': 673, 'nick': 674, 'night': 675, 'nobody': 676, 'notice': 677, 'nuclear': 678, 'number': 679, 'o': 680, 'ocean': 681, 'odin': 682, 'order': 683, 'orders': 684, 'outer': 685, 'package': 686, 'paid': 687, 'panels': 688, 'park': 689, 'part': 690, 'personal': 691, 'piece': 692, 'planning': 693, 'playing': 694, 'possible': 695, 'potential': 696, 'powered': 697, 'pretend': 698, 'private': 699, 'problem': 700, 'promise': 701, 'protect': 702, 'protocol': 703, 'prototype': 704, 'purpose': 705, 'quarrel': 706, 'rage': 707, 'ranugal': 708, 'raw': 709, 'reactor': 710, 'real': 711, 'recalibration': 712, 'reflection': 713, 'relays': 714, 'response': 715, 'responsible': 716, 'restless': 717, 'ride': 718, 'roger': 719, 'safe': 720, 'safety': 721, 'said': 722, 'saved': 723, 'saw': 724, 'saying': 725, 'scramble': 726, 'secrets': 727, 'separate': 728, 'seven': 729, 'shall': 730, 'shouldn': 731, 'sign': 732, 'signature': 733, 'six': 734, 'sky': 735, 'sleep': 736, 'sleeping': 737, 'smart': 738, 'soldiers': 739, 'sort': 740, 'sound': 741, 'spectrometers': 742, 'speed': 743, 'stalling': 744, 'stick': 745, 'stops': 746, 'straight': 747, 'stuttgart': 748, 'style': 749, 'subtle': 750, 'suddenly': 751, 'suppose': 752, 'sustaining': 753, 'sweeping': 754, 'swing': 755, 'system': 756, 'tchalakov': 757, 'tear': 758, 'thirty': 759, 'threatening': 760, 'throne': 761, 'today': 762, 'tonight': 763, 'touch': 764, 'towers': 765, 'track': 766, 'tracking': 767, 'trading': 768, 'transport': 769, 'trap': 770, 'trouble': 771, 'turbine': 772, 'turns': 773, 'uniform': 774, 'universe': 775, 'unless': 776, 'unlimited': 777, 'vintage': 778, 'wanted': 779, 'wield': 780, 'win': 781, 'wind': 782, 'wire': 783, 'wondering': 784, 'wont': 785, 'years': 786, 'yep': 787, 'yours': 788, 'able': 789, 'aboard': 790, 'absence': 791, 'absolutely': 792, 'abundance': 793, 'abyss': 794, 'accelerator': 795, 'accept': 796, 'accessible': 797, 'achieve': 798, 'acme': 799, 'acquired': 800, 'active': 801, 'actively': 802, 'actress': 803, 'adopted': 804, 'advanced': 805, 'advancement': 806, 'afield': 807, 'agents': 808, 'ages': 809, 'ago': 810, 'aim': 811, 'airport': 812, 'alfa': 813, 'algorithm': 814, 'allies': 815, 'ally': 816, 'also': 817, 'altitude': 818, 'ambition': 819, 'ancient': 820, 'anger': 821, 'answering': 822, 'antlers': 823, 'anymore': 824, 'anytime': 825, 'apartment': 826, 'apparently': 827, 'appeal': 828, 'appear': 829, 'argue': 830, 'argument': 831, 'arrow': 832, 'arsenal': 833, 'ash': 834, 'asked': 835, 'ass': 836, 'assassins': 837, 'assed': 838, 'astrophysicist': 839, 'astrophysics': 840, 'audience': 841, 'authorize': 842, 'avail': 843, 'avenge': 844, 'avoid': 845, 'awakened': 846, 'awareness': 847, 'awful': 848, 'balance': 849, 'balm': 850, 'bang': 851, 'banne': 852, 'barren': 853, 'barter': 854, 'based': 855, 'basement': 856, 'basest': 857, 'basically': 858, 'bastards': 859, 'bat': 860, 'battleground': 861, 'battles': 862, 'battling': 863, 'beacon': 864, 'beat': 865, 'beautiful': 866, 'behalf': 867, 'behind': 868, 'below': 869, 'beneath': 870, 'best': 871, 'betrayed': 872, 'between': 873, 'bifrost': 874, 'biggest': 875, 'billboards': 876, 'bird': 877, 'black': 878, 'block': 879, 'blood': 880, 'blue': 881, 'blueberry': 882, 'board': 883, 'boat': 884, 'body': 885, 'bomb': 886, 'bongo': 887, 'boost': 888, 'born': 889, 'both': 890, 'bottle': 891, 'bottleneck': 892, 'bout': 893, 'box': 894, 'breaking': 895, 'brief': 896, 'briefcase': 897, 'bright': 898, 'bringing': 899, 'brings': 900, 'broke': 901, 'brush': 902, 'bs': 903, 'bsecure': 904, 'bsmash': 905, 'buck': 906, 'bucks': 907, 'buddy': 908, 'bugging': 909, 'bullet': 910, 'bullied': 911, 'bunk': 912, 'burdened': 913, 'burn': 914, 'burns': 915, 'bury': 916, 'busy': 917, 'buzz': 918, 'bypass': 919, 'calculations': 920, 'calcutta': 921, 'calibrate': 922, 'calisthenics': 923, 'calling': 924, 'calm': 925, 'calms': 926, 'camera': 927, 'cameras': 928, 'campaign': 929, 'campus': 930, 'candy': 931, 'canning': 932, 'cant': 933, 'capacity': 934, 'capsicle': 935, 'capy': 936, 'carefully': 937, 'carrying': 938, 'cast': 939, 'catastrophe': 940, 'cats': 941, 'caught': 942, 'ceiling': 943, 'chance': 944, 'chemical': 945, 'child': 946, 'childish': 947, 'children': 948, 'chips': 949, 'christmas': 950, 'circle': 951, 'claim': 952, 'cleared': 953, 'clearly': 954, 'clench': 955, 'climbing': 956, 'clockin': 957, 'closer': 958, 'code': 959, 'cognitive': 960, 'collapse': 961, 'collapsing': 962, 'collect': 963, 'collisions': 964, 'comes': 965, 'command': 966, 'comment': 967, 'complete': 968, 'complicated': 969, 'component': 970, 'computer': 971, 'concoct': 972, 'condition': 973, 'conducting': 974, 'confident': 975, 'confirmed': 976, 'confused': 977, 'conjure': 978, 'connected': 979, 'conquer': 980, 'considering': 981, 'consistent': 982, 'consult': 983, 'consultation': 984, 'consulting': 985, 'contacts': 986, 'contain': 987, 'container': 988, 'containment': 989, 'controls': 990, 'conviction': 991, 'cooling': 992, 'cooperate': 993, 'cooperation': 994, 'coulomb': 995, 'count': 996, 'court': 997, 'courted': 998, 'covert': 999, 'crave': 1000, 'craves': 1001, 'crazy': 1002, 'creature': 1003, 'creatures': 1004, 'crevasse': 1005, 'crime': 1006, 'criminal': 1007, 'critical': 1008, 'cross': 1009, 'currently': 1010, 'dad': 1011, 'damned': 1012, 'dangerous': 1013, 'daughter': 1014, 'day': 1015, 'days': 1016, 'debriefing': 1017, 'debris': 1018, 'debt': 1019, 'declared': 1020, 'decoy': 1021, 'decryption': 1022, 'deep': 1023, 'defeated': 1024, 'defend': 1025, 'definitely': 1026, 'demi': 1027, 'density': 1028, 'depend': 1029, 'deployment': 1030, 'derived': 1031, 'design': 1032, 'designed': 1033, 'destiny': 1034, 'destroy': 1035, 'destroyer': 1036, 'detail': 1037, 'detention': 1038, 'deterrent': 1039, 'devastation': 1040, 'device': 1041, 'died': 1042, 'differently': 1043, 'diminishes': 1044, 'direct': 1045, 'directly': 1046, 'dirty': 1047, 'disadvantage': 1048, 'disagreeing': 1049, 'disconnected': 1050, 'disease': 1051, 'disengage': 1052, 'dislodging': 1053, 'distraction': 1054, 'diva': 1055, 'doc': 1056, 'doll': 1057, 'doorway': 1058, 'doth': 1059, 'doubt': 1060, 'drag': 1061, 'dragged': 1062, 'drakoff': 1063, 'drapes': 1064, 'draw': 1065, 'dread': 1066, 'dream': 1067, 'dress': 1068, 'drew': 1069, 'dripping': 1070, 'droves': 1071, 'drums': 1072, 'dull': 1073, 'dynamite': 1074, 'e': 1075, 'each': 1076, 'earned': 1077, 'ears': 1078, 'east': 1079, 'edge': 1080, 'edges': 1081, 'eight': 1082, 'eighty': 1083, 'elder': 1084, 'elected': 1085, 'electricity': 1086, 'electron': 1087, 'emergency': 1088, 'ended': 1089, 'ends': 1090, 'enemy': 1091, 'enormous': 1092, 'equation': 1093, 'equipment': 1094, 'erskine': 1095, 'escape': 1096, 'escort': 1097, 'escorts': 1098, 'ets': 1099, 'evacuation': 1100, 'everybody': 1101, 'everyday': 1102, 'evolved': 1103, 'example': 1104, 'excellent': 1105, 'excuse': 1106, 'exhausting': 1107, 'exile': 1108, 'expanded': 1109, 'experiment': 1110, 'expert': 1111, 'exports': 1112, 'exposed': 1113, 'exposure': 1114, 'extra': 1115, 'extraction': 1116, 'extraordinary': 1117, 'extremely': 1118, 'eyeball': 1119, 'eyelashes': 1120, 'f': 1121, 'facing': 1122, 'factory': 1123, 'fail': 1124, 'failure': 1125, 'falls': 1126, 'familiar': 1127, 'famous': 1128, 'fan': 1129, 'fantastic': 1130, 'faster': 1131, 'fate': 1132, 'fault': 1133, 'fears': 1134, 'fee': 1135, 'feelings': 1136, 'fellow': 1137, 'field': 1138, 'fife': 1139, 'fifteen': 1140, 'file': 1141, 'files': 1142, 'fill': 1143, 'filling': 1144, 'finally': 1145, 'finding': 1146, 'fine': 1147, 'finish': 1148, 'finishes': 1149, 'firefight': 1150, 'fished': 1151, 'fit': 1152, 'five': 1153, 'floating': 1154, 'floor': 1155, 'floors': 1156, 'flowers': 1157, 'flush': 1158, 'fly': 1159, 'flying': 1160, 'focus': 1161, 'followed': 1162, 'following': 1163, 'follows': 1164, 'fond': 1165, 'footage': 1166, 'forced': 1167, 'forces': 1168, 'formidable': 1169, 'forms': 1170, 'formula': 1171, 'fortress': 1172, 'fortune': 1173, 'forty': 1174, 'foster': 1175, 'fought': 1176, 'foxing': 1177, 'freak': 1178, 'freaks': 1179, 'frees': 1180, 'friendly': 1181, 'friends': 1182, 'funky': 1183, 'fusion': 1184, 'fuss': 1185, 'futile': 1186, 'gallaga': 1187, 'gaming': 1188, 'gathered': 1189, 'gear': 1190, 'genuine': 1191, 'gettin': 1192, 'given': 1193, 'gives': 1194, 'glass': 1195, 'global': 1196, 'gods': 1197, 'gotten': 1198, 'greatest': 1199, 'greatness': 1200, 'greed': 1201, 'grenade': 1202, 'grid': 1203, 'ground': 1204, 'grown': 1205, 'grows': 1206, 'grrr': 1207, 'grudge': 1208, 'guard': 1209, 'guardian': 1210, 'gunned': 1211, 'gushing': 1212, 'h': 1213, 'ha': 1214, 'hai': 1215, 'handful': 1216, 'handsome': 1217, 'harlem': 1218, 'harness': 1219, 'harnessing': 1220, 'haven': 1221, 'hawk': 1222, 'hawkeye': 1223, 'hawking': 1224, 'heading': 1225, 'heads': 1226, 'held': 1227, 'helped': 1228, 'helping': 1229, 'heroic': 1230, 'hi': 1231, 'hide': 1232, 'high': 1233, 'hilariously': 1234, 'historically': 1235, 'holding': 1236, 'homer': 1237, 'hopelessly': 1238, 'hoping': 1239, 'horrible': 1240, 'horrors': 1241, 'hospital': 1242, 'howard': 1243, 'ideally': 1244, 'identity': 1245, 'idiot': 1246, 'ignore': 1247, 'ill': 1248, 'imagined': 1249, 'immortal': 1250, 'impenetrable': 1251, 'impossible': 1252, 'impressive': 1253, 'incident': 1254, 'incoming': 1255, 'information': 1256, 'input': 1257, 'insisting': 1258, 'intends': 1259, 'interested': 1260, 'interference': 1261, 'interrogation': 1262, 'intimately': 1263, 'invite': 1264, 'involved': 1265, 'ion': 1266, 'iron': 1267, 'island': 1268, 'isolated': 1269, 'jab': 1270, 'jane': 1271, 'jarvs': 1272, 'javani': 1273, 'jazz': 1274, 'jets': 1275, 'join': 1276, 'joint': 1277, 'joke': 1278, 'jonah': 1279, 'joy': 1280, 'justice': 1281, 'kelvin': 1282, 'kick': 1283, 'kidding': 1284, 'kids': 1285, 'killers': 1286, 'killing': 1287, 'kills': 1288, 'kilometer': 1289, 'kissed': 1290, 'kit': 1291, 'l': 1292, 'lack': 1293, 'land': 1294, 'laptops': 1295, 'later': 1296, 'leading': 1297, 'league': 1298, 'learn': 1299, 'lease': 1300, 'least': 1301, 'legends': 1302, 'legoolas': 1303, 'lengthy': 1304, 'lermentovia': 1305, 'lermentoville': 1306, 'less': 1307, 'letting': 1308, 'levelled': 1309, 'liars': 1310, 'lid': 1311, 'lift': 1312, 'lifted': 1313, 'lifting': 1314, 'lines': 1315, 'listening': 1316, 'literally': 1317, 'live': 1318, 'lives': 1319, 'load': 1320, 'lobby': 1321, 'located': 1322, 'locating': 1323, 'longer': 1324, 'looks': 1325, 'loose': 1326, 'loves': 1327, 'lower': 1328, 'lucky': 1329, 'lure': 1330, 'ma': 1331, 'mad': 1332, 'madness': 1333, 'mag': 1334, 'magazine': 1335, 'magic': 1336, 'magical': 1337, 'mainframe': 1338, 'major': 1339, 'mam': 1340, 'managed': 1341, 'management': 1342, 'manhattan': 1343, 'manipulating': 1344, 'marching': 1345, 'mark': 1346, 'married': 1347, 'marvelous': 1348, 'master': 1349, 'matched': 1350, 'material': 1351, 'materials': 1352, 'meagre': 1353, 'meant': 1354, 'mechanics': 1355, 'medical': 1356, 'medium': 1357, 'mellow': 1358, 'mess': 1359, 'message': 1360, 'messier': 1361, 'meteorites': 1362, 'mewling': 1363, 'middle': 1364, 'mightiest': 1365, 'mile': 1366, 'mileage': 1367, 'million': 1368, 'mindless': 1369, 'mine': 1370, 'minimum': 1371, 'mint': 1372, 'missile': 1373, 'missing': 1374, 'mission': 1375, 'mistakes': 1376, 'mixture': 1377, 'modifications': 1378, 'mom': 1379, 'monsters': 1380, 'monument': 1381, 'mood': 1382, 'moon': 1383, 'moron': 1384, 'mostly': 1385, 'mother': 1386, 'motion': 1387, 'mountain': 1388, 'mourn': 1389, 'mouth': 1390, 'muss': 1391, 'muster': 1392, 'myself': 1393, 'n': 1394, 'names': 1395, 'narrow': 1396, 'nasa': 1397, 'national': 1398, 'natural': 1399, 'nature': 1400, 'navigation': 1401, 'near': 1402, 'neck': 1403, 'needing': 1404, 'neither': 1405, 'nerve': 1406, 'nest': 1407, 'network': 1408, 'neutral': 1409, 'news': 1410, 'nicely': 1411, 'nightmare': 1412, 'nine': 1413, 'noise': 1414, 'nor': 1415, 'north': 1416, 'notes': 1417, 'noticed': 1418, 'notion': 1419, 'nude': 1420, 'nuke': 1421, 'nuts': 1422, 'observatory': 1423, 'obsessed': 1424, 'occupied': 1425, 'offense': 1426, 'official': 1427, 'officially': 1428, 'older': 1429, 'omits': 1430, 'online': 1431, 'ooh': 1432, 'opening': 1433, 'operating': 1434, 'option': 1435, 'ordered': 1436, 'organization': 1437, 'original': 1438, 'others': 1439, 'ou': 1440, 'ought': 1441, 'ours': 1442, 'ourselves': 1443, 'outdated': 1444, 'outfit': 1445, 'outside': 1446, 'oven': 1447, 'overload': 1448, 'overly': 1449, 'overwrite': 1450, 'overwritten': 1451, 'owe': 1452, 'own': 1453, 'packed': 1454, 'packet': 1455, 'packs': 1456, 'panel': 1457, 'papers': 1458, 'parades': 1459, 'parentage': 1460, 'particular': 1461, 'parties': 1462, 'past': 1463, 'patch': 1464, 'path': 1465, 'pathetic': 1466, 'patterns': 1467, 'paulo': 1468, 'pay': 1469, 'peak': 1470, 'penetrate': 1471, 'pepper': 1472, 'percentages': 1473, 'performance': 1474, 'personality': 1475, 'persuade': 1476, 'petty': 1477, 'pharaohs': 1478, 'philanthropist': 1479, 'phone': 1480, 'phones': 1481, 'picked': 1482, 'pigeons': 1483, 'pilates': 1484, 'piss': 1485, 'pissed': 1486, 'places': 1487, 'plane': 1488, 'plans': 1489, 'plastered': 1490, 'playboy': 1491, 'played': 1492, 'pleasure': 1493, 'plug': 1494, 'pointy': 1495, 'poisonous': 1496, 'polarity': 1497, 'population': 1498, 'portland': 1499, 'position': 1500, 'post': 1501, 'posted': 1502, 'powers': 1503, 'prayer': 1504, 'precedence': 1505, 'precious': 1506, 'present': 1507, 'press': 1508, 'pressurized': 1509, 'pretending': 1510, 'previews': 1511, 'price': 1512, 'priority': 1513, 'prise': 1514, 'prisoner': 1515, 'privilege': 1516, 'probably': 1517, 'proceed': 1518, 'process': 1519, 'profiles': 1520, 'programme': 1521, 'project': 1522, 'protection': 1523, 'protons': 1524, 'proud': 1525, 'prove': 1526, 'public': 1527, 'puny': 1528, 'pure': 1529, 'qualify': 1530, 'quantum': 1531, 'quin': 1532, 'quite': 1533, 'r': 1534, 'rabbited': 1535, 'race': 1536, 'radar': 1537, 'radius': 1538, 'raised': 1539, 'rate': 1540, 'rays': 1541, 'reach': 1542, 'reached': 1543, 'reaches': 1544, 'reactors': 1545, 'reading': 1546, 'readings': 1547, 'realm': 1548, 'realms': 1549, 'reason': 1550, 'receive': 1551, 'recently': 1552, 'recognition': 1553, 'recognize': 1554, 'recompense': 1555, 'reference': 1556, 'regime': 1557, 'regular': 1558, 'reindeer': 1559, 'related': 1560, 'relationship': 1561, 'remarkable': 1562, 'remind': 1563, 'reminded': 1564, 'remote': 1565, 'removed': 1566, 'removing': 1567, 'renting': 1568, 'repair': 1569, 'repeat': 1570, 'replicate': 1571, 'report': 1572, 'reports': 1573, 'repulsive': 1574, 'reroute': 1575, 'rescue': 1576, 'research': 1577, 'retro': 1578, 'return': 1579, 'reverse': 1580, 'rightful': 1581, 'ring': 1582, 'risk': 1583, 'riskier': 1584, 'rock': 1585, 'role': 1586, 'rough': 1587, 'rounds': 1588, 'ruled': 1589, 'ruling': 1590, 'russian': 1591, 'sacrifice': 1592, 'sao': 1593, 'satellite': 1594, 'saving': 1595, 'scaly': 1596, 'scare': 1597, 'scared': 1598, 'scattered': 1599, 'scent': 1600, 'schemes': 1601, 'scrapped': 1602, 'scratch': 1603, 'screams': 1604, 'sec': 1605, 'second': 1606, 'seconds': 1607, 'secure': 1608, 'seemed': 1609, 'sentimentality': 1610, 'serious': 1611, 'serum': 1612, 'service': 1613, 'settle': 1614, 'seventy': 1615, 'shade': 1616, 'shadows': 1617, 'shaken': 1618, 'shakespeare': 1619, 'share': 1620, 'sharpest': 1621, 'sheild': 1622, 'shell': 1623, 'ship': 1624, 'shortage': 1625, 'showed': 1626, 'showing': 1627, 'shown': 1628, 'shrapnel': 1629, 'shredded': 1630, 'shrunk': 1631, 'sides': 1632, 'signal': 1633, 'silenskin': 1634, 'simpler': 1635, 'since': 1636, 'single': 1637, 'sit': 1638, 'situation': 1639, 'sixty': 1640, 'size': 1641, 'skies': 1642, 'skillset': 1643, 'skip': 1644, 'skull': 1645, 'slaughter': 1646, 'sleepy': 1647, 'slept': 1648, 'slight': 1649, 'slights': 1650, 'slower': 1651, 'slowing': 1652, 'slowly': 1653, 'small': 1654, 'smash': 1655, 'smell': 1656, 'smells': 1657, 'snafu': 1658, 'sneak': 1659, 'socket': 1660, 'soft': 1661, 'sometime': 1662, 'sometimes': 1663, 'somewhere': 1664, 'sorely': 1665, 'soul': 1666, 'sounds': 1667, 'south': 1668, 'spangly': 1669, 'spare': 1670, 'speaks': 1671, 'spear': 1672, 'special': 1673, 'specially': 1674, 'specific': 1675, 'spell': 1676, 'spiking': 1677, 'spin': 1678, 'spinning': 1679, 'spit': 1680, 'split': 1681, 'spontaneous': 1682, 'spot': 1683, 'spry': 1684, 'squadron': 1685, 'square': 1686, 'stabilize': 1687, 'stabilizing': 1688, 'standing': 1689, 'stars': 1690, 'starting': 1691, 'state': 1692, 'statement': 1693, 'staying': 1694, 'steady': 1695, 'steal': 1696, 'steam': 1697, 'steel': 1698, 'stephen': 1699, 'steve': 1700, 'stopping': 1701, 'storage': 1702, 'strand': 1703, 'strange': 1704, 'stranger': 1705, 'strasse': 1706, 'strays': 1707, 'streak': 1708, 'street': 1709, 'strike': 1710, 'stripes': 1711, 'stronger': 1712, 'strut': 1713, 'stupid': 1714, 'subjugation': 1715, 'submarine': 1716, 'submerged': 1717, 'subs': 1718, 'subtitle': 1719, 'subway': 1720, 'succeed': 1721, 'such': 1722, 'suite': 1723, 'suiting': 1724, 'sun': 1725, 'superhero': 1726, 'surely': 1727, 'surge': 1728, 'surprise': 1729, 'surprises': 1730, 'surrounded': 1731, 'surrounding': 1732, 'survivors': 1733, 'suspect': 1734, 'sustainable': 1735, 'sustainig': 1736, 'swallow': 1737, 'swear': 1738, 'sweaty': 1739, 'sweet': 1740, 'swoon': 1741, 'tail': 1742, 'taken': 1743, 'talks': 1744, 'tampering': 1745, 'tank': 1746, 'tech': 1747, 'teeming': 1748, 'telephone': 1749, 'telling': 1750, 'tells': 1751, 'tend': 1752, 'tension': 1753, 'teraflops': 1754, 'term': 1755, 'terrestrial': 1756, 'terrible': 1757, 'testing': 1758, 'th': 1759, 'thats': 1760, 'theory': 1761, 'thermonuclear': 1762, 'third': 1763, 'thousand': 1764, 'throw': 1765, 'throwing': 1766, 'thursday': 1767, 'tidings': 1768, 'tiny': 1769, 'tiptoeing': 1770, 'tooth': 1771, 'tortures': 1772, 'tossing': 1773, 'tourist': 1774, 'town': 1775, 'toys': 1776, 'trace': 1777, 'traction': 1778, 'trade': 1779, 'trained': 1780, 'trample': 1781, 'transition': 1782, 'trapped': 1783, 'traunsee': 1784, 'tray': 1785, 'trick': 1786, 'trip': 1787, 'truck': 1788, 'trust': 1789, 'trusts': 1790, 'tunnelling': 1791, 'turned': 1792, 'twenty': 1793, 'twitchy': 1794, 'type': 1795, 'ugly': 1796, 'unbalanced': 1797, 'unbreachable': 1798, 'unclear': 1799, 'unconscious': 1800, 'understood': 1801, 'unfinished': 1802, 'unit': 1803, 'unleash': 1804, 'unlocking': 1805, 'unmade': 1806, 'unparalleled': 1807, 'unspoken': 1808, 'upon': 1809, 'upstairs': 1810, 'urgent': 1811, 'urgently': 1812, 'using': 1813, 'usual': 1814, 'vanish': 1815, 'variables': 1816, 'vehicles': 1817, 'vengeance': 1818, 'version': 1819, 'violence': 1820, 'virtuous': 1821, 'visitor': 1822, 'volatile': 1823, 'vow': 1824, 'wade': 1825, 'waited': 1826, 'waiting': 1827, 'walk': 1828, 'wallop': 1829, 'wandered': 1830, 'wars': 1831, 'watched': 1832, 'ways': 1833, 'weak': 1834, 'weareth': 1835, 'wearing': 1836, 'weed': 1837, 'weeks': 1838, 'weep': 1839, 'weight': 1840, 'went': 1841, 'whereabouts': 1842, 'wide': 1843, 'wider': 1844, 'widow': 1845, 'wild': 1846, 'wiped': 1847, 'wirelessly': 1848, 'within': 1849, 'woman': 1850, 'worked': 1851, 'workmen': 1852, 'worth': 1853, 'wow': 1854, 'write': 1855, 'xoxoxo': 1856, 'yesterday': 1857, 'yoga': 1858, 'young': 1859, 'youth': 1860, 'zoning': 1861}\n",
            "-------------------------\n",
            "텍스트 입력:i want to go sleep\n",
            "인코딩 결과: [2, 117, 4, 106, 736]\n"
          ]
        }
      ]
    }
  ]
}